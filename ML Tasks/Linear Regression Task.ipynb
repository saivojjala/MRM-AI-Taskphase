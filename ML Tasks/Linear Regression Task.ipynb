{
 "cells": [
  {
   "cell_type": "code",
   "execution_count": 124,
   "metadata": {},
   "outputs": [],
   "source": [
    "import numpy as np\n",
    "import pandas as pd\n",
    "import matplotlib.pyplot as plt\n",
    "import sklearn.model_selection as sk\n",
    "\n",
    "data = pd.read_csv(\"/home/saipranav/Tasks-ADMIN/project_1_dataset.csv\")\n",
    "\n",
    "X = data.iloc[:, 0]\n",
    "y = data.iloc[:, 1]"
   ]
  },
  {
   "cell_type": "code",
   "execution_count": 125,
   "metadata": {},
   "outputs": [
    {
     "data": {
      "text/html": [
       "<div>\n",
       "<style scoped>\n",
       "    .dataframe tbody tr th:only-of-type {\n",
       "        vertical-align: middle;\n",
       "    }\n",
       "\n",
       "    .dataframe tbody tr th {\n",
       "        vertical-align: top;\n",
       "    }\n",
       "\n",
       "    .dataframe thead th {\n",
       "        text-align: right;\n",
       "    }\n",
       "</style>\n",
       "<table border=\"1\" class=\"dataframe\">\n",
       "  <thead>\n",
       "    <tr style=\"text-align: right;\">\n",
       "      <th></th>\n",
       "      <th>YearsExperience</th>\n",
       "      <th>Salary</th>\n",
       "    </tr>\n",
       "  </thead>\n",
       "  <tbody>\n",
       "    <tr>\n",
       "      <th>0</th>\n",
       "      <td>1.1</td>\n",
       "      <td>39343.0</td>\n",
       "    </tr>\n",
       "    <tr>\n",
       "      <th>1</th>\n",
       "      <td>1.3</td>\n",
       "      <td>46205.0</td>\n",
       "    </tr>\n",
       "    <tr>\n",
       "      <th>2</th>\n",
       "      <td>1.5</td>\n",
       "      <td>37731.0</td>\n",
       "    </tr>\n",
       "    <tr>\n",
       "      <th>3</th>\n",
       "      <td>2.0</td>\n",
       "      <td>43525.0</td>\n",
       "    </tr>\n",
       "    <tr>\n",
       "      <th>4</th>\n",
       "      <td>2.2</td>\n",
       "      <td>39891.0</td>\n",
       "    </tr>\n",
       "  </tbody>\n",
       "</table>\n",
       "</div>"
      ],
      "text/plain": [
       "   YearsExperience   Salary\n",
       "0              1.1  39343.0\n",
       "1              1.3  46205.0\n",
       "2              1.5  37731.0\n",
       "3              2.0  43525.0\n",
       "4              2.2  39891.0"
      ]
     },
     "execution_count": 125,
     "metadata": {},
     "output_type": "execute_result"
    }
   ],
   "source": [
    "data.head()"
   ]
  },
  {
   "cell_type": "code",
   "execution_count": 126,
   "metadata": {},
   "outputs": [
    {
     "name": "stdout",
     "output_type": "stream",
     "text": [
      "[ 3.2  9.6  9.   4.   3.9  7.9  5.1  2.9 10.5  6.8  4.1 10.3  2.   7.1\n",
      "  8.2  1.5  2.2  1.3  4.9  8.7]\n",
      "[ 54445. 112635. 105582.  56957.  63218. 101302.  66029.  56642. 121872.\n",
      "  91738.  57081. 122391.  43525.  98273. 113812.  37731.  39891.  46205.\n",
      "  67938. 109431.]\n"
     ]
    }
   ],
   "source": [
    "#Split dataset into training set and test set\n",
    "\n",
    "X_train, X_test, y_train, y_test =  train_test_split(X,y,test_size=1/3)\n",
    "\n",
    "print(X_train.values)\n",
    "print(y_train.values)"
   ]
  },
  {
   "cell_type": "code",
   "execution_count": 127,
   "metadata": {},
   "outputs": [
    {
     "data": {
      "image/png": "[encoded data removed]",
      "text/plain": [
       "<Figure size 432x288 with 1 Axes>"
      ]
     },
     "metadata": {
      "needs_background": "light"
     },
     "output_type": "display_data"
    }
   ],
   "source": [
    "#Plot training set\n",
    "plt.scatter(X_train, y_train)\n",
    "plt.title(\"Experience vs Salary\")\n",
    "plt.xlabel(\"Years of experience\")\n",
    "plt.ylabel(\"Salary\")\n",
    "plt.show()"
   ]
  },
  {
   "cell_type": "code",
   "execution_count": 199,
   "metadata": {},
   "outputs": [
    {
     "name": "stdout",
     "output_type": "stream",
     "text": [
      "7      38874.846328\n",
      "27    112839.184458\n",
      "25    105905.027758\n",
      "12     48120.388594\n",
      "10     46964.695811\n",
      "22     93192.407142\n",
      "16     60833.009210\n",
      "5      35407.767978\n",
      "29    123240.419507\n",
      "20     80479.786526\n",
      "13     49276.081378\n",
      "28    120929.033941\n",
      "3      25006.532929\n",
      "21     83946.864876\n",
      "23     96659.485492\n",
      "2      19228.069012\n",
      "4      27317.918495\n",
      "1      16916.683446\n",
      "15     58521.623644\n",
      "24    102437.949408\n",
      "Name: YearsExperience, dtype: float64\n"
     ]
    }
   ],
   "source": [
    "#Funtion for Linear Regression using Gradient Descent\n",
    "def gradient_descent(X_train, y_train):\n",
    "    learning_rate = 0.0000059\n",
    "    iterations = 10000\n",
    "    theta = np.zeros(2)\n",
    "    for i in range(iterations):\n",
    "        y_train_prediction = theta[0] + theta[1]*X_train\n",
    "        theta[0] = theta[0] - (learning_rate*sum(y_train_prediction - y_train))/len(X_train)\n",
    "        theta[1] = theta[1] - (learning_rate*sum((y_train_prediction - y_train)*X_train))/len(X_train)\n",
    "        \n",
    "    return theta, y_train_prediction\n",
    "\n",
    "a, b = gradient_descent(X_train, y_train)\n",
    "print(b)"
   ]
  },
  {
   "cell_type": "code",
   "execution_count": 200,
   "metadata": {},
   "outputs": [
    {
     "data": {
      "image/png": "[encoded data removed]",
      "text/plain": [
       "<Figure size 432x288 with 1 Axes>"
      ]
     },
     "metadata": {
      "needs_background": "light"
     },
     "output_type": "display_data"
    }
   ],
   "source": [
    "#Visualising the Training Set\n",
    "plt.scatter(X_train, y_train)\n",
    "plt.plot(X_train, b, color = 'red')\n",
    "plt.title(\"Experience vs Salary\")\n",
    "plt.xlabel(\"Years of experience\")\n",
    "plt.ylabel(\"Salary\")\n",
    "plt.show()"
   ]
  },
  {
   "cell_type": "code",
   "execution_count": 201,
   "metadata": {},
   "outputs": [
    {
     "data": {
      "image/png": "[encoded data removed]",
      "text/plain": [
       "<Figure size 432x288 with 1 Axes>"
      ]
     },
     "metadata": {
      "needs_background": "light"
     },
     "output_type": "display_data"
    },
    {
     "data": {
      "image/png": "[encoded data removed]",
      "text/plain": [
       "<Figure size 432x288 with 1 Axes>"
      ]
     },
     "metadata": {
      "needs_background": "light"
     },
     "output_type": "display_data"
    }
   ],
   "source": [
    "#Visualising the testing set\n",
    "plt.scatter(X_test, y_test)\n",
    "plt.title(\"Experience vs Salary\")\n",
    "plt.xlabel(\"Years of experience\")\n",
    "plt.ylabel(\"Salary\")\n",
    "plt.show()\n",
    "\n",
    "x, y = gradient_descent(X_test, y_test)\n",
    "\n",
    "plt.scatter(X_test, y_test)\n",
    "plt.plot(X_test, y, color = 'red')\n",
    "plt.title(\"Experience vs Salary\")\n",
    "plt.xlabel(\"Years of experience\")\n",
    "plt.ylabel(\"Salary\")\n",
    "plt.show()"
   ]
  },
  {
   "cell_type": "code",
   "execution_count": 202,
   "metadata": {},
   "outputs": [
    {
     "name": "stdout",
     "output_type": "stream",
     "text": [
      "168017.79513520186\n"
     ]
    }
   ],
   "source": [
    "#15 years\n",
    "new_prediction = x[0] + x[1]*15\n",
    "print(new_prediction)"
   ]
  },
  {
   "cell_type": "code",
   "execution_count": null,
   "metadata": {},
   "outputs": [],
   "source": []
  },
  {
   "cell_type": "code",
   "execution_count": null,
   "metadata": {},
   "outputs": [],
   "source": []
  }
 ],
 "metadata": {
  "kernelspec": {
   "display_name": "Python 3",
   "language": "python",
   "name": "python3"
  },
  "language_info": {
   "codemirror_mode": {
    "name": "ipython",
    "version": 3
   },
   "file_extension": ".py",
   "mimetype": "text/x-python",
   "name": "python",
   "nbconvert_exporter": "python",
   "pygments_lexer": "ipython3",
   "version": "3.7.3"
  }
 },
 "nbformat": 4,
 "nbformat_minor": 2
}
